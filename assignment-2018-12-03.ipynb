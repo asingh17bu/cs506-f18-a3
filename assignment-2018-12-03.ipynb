{
 "cells": [
  {
   "cell_type": "markdown",
   "metadata": {},
   "source": [
    "#  <span style=\"text-decoration:underline;\">Assignment 3</span>: Predicting Salaries via Classification"
   ]
  },
  {
   "cell_type": "markdown",
   "metadata": {},
   "source": [
    "## Introduction"
   ]
  },
  {
   "cell_type": "markdown",
   "metadata": {},
   "source": [
    "In this assignment, you will be working with [US census data](https://raw.githubusercontent.com/lapets/course-data-science/master/assignment-2018-12-03-data.tsv). You can find the schema for the data set [here](https://raw.githubusercontent.com/lapets/course-data-science/master/assignment-2018-12-03-schema.txt). The data is stored in a tab-separated value file in which each line represents an individual person. The data set was extracted from the 1994 US census data. Your goal is to evaluate different models for determining whether a person has an annual salary that is $50,000 or above.  "
   ]
  },
  {
   "cell_type": "markdown",
   "metadata": {},
   "source": [
    "## Submission"
   ]
  },
  {
   "cell_type": "markdown",
   "metadata": {},
   "source": [
    "Please use the following invitation link to create your assignment repository for this assignment: [https://classroom.github.com/a/3Af24wlA](https://classroom.github.com/a/3Af24wlA). Include your BU username within your submission by adding it here: **<BU username&gt;**.\n",
    "\n",
    "Do not delete the output of your code cells. This assignment must be completed **individually** by each student."
   ]
  },
  {
   "cell_type": "markdown",
   "metadata": {},
   "source": [
    "## <span style=\"text-decoration:underline;\">Problem 1</span>: Feature Dimension Representations"
   ]
  },
  {
   "cell_type": "markdown",
   "metadata": {},
   "source": [
    "**<span style=\"text-decoration:underline;\">Part A</span> (20 points):** This data set contains categorical values in its feature dimensions. Most of the algorithms that were presented during lectures can only handle numeric quantities. Thus, it is necessary to create a new feature dimension for every unique value of each categorical variable. To accomplish this, you can use `pandas.get_dummies`. An example is provided below."
   ]
  },
  {
   "cell_type": "code",
   "execution_count": 3,
   "metadata": {},
   "outputs": [
    {
     "data": {
      "text/html": [
       "<div>\n",
       "<style scoped>\n",
       "    .dataframe tbody tr th:only-of-type {\n",
       "        vertical-align: middle;\n",
       "    }\n",
       "\n",
       "    .dataframe tbody tr th {\n",
       "        vertical-align: top;\n",
       "    }\n",
       "\n",
       "    .dataframe thead th {\n",
       "        text-align: right;\n",
       "    }\n",
       "</style>\n",
       "<table border=\"1\" class=\"dataframe\">\n",
       "  <thead>\n",
       "    <tr style=\"text-align: right;\">\n",
       "      <th></th>\n",
       "      <th>age</th>\n",
       "      <th>salary</th>\n",
       "      <th>edu_Bachelor</th>\n",
       "      <th>edu_Jd</th>\n",
       "      <th>edu_Masters</th>\n",
       "      <th>edu_PhD</th>\n",
       "    </tr>\n",
       "  </thead>\n",
       "  <tbody>\n",
       "    <tr>\n",
       "      <th>0</th>\n",
       "      <td>23</td>\n",
       "      <td>60000</td>\n",
       "      <td>1</td>\n",
       "      <td>0</td>\n",
       "      <td>0</td>\n",
       "      <td>0</td>\n",
       "    </tr>\n",
       "    <tr>\n",
       "      <th>1</th>\n",
       "      <td>62</td>\n",
       "      <td>100000</td>\n",
       "      <td>0</td>\n",
       "      <td>0</td>\n",
       "      <td>1</td>\n",
       "      <td>0</td>\n",
       "    </tr>\n",
       "    <tr>\n",
       "      <th>2</th>\n",
       "      <td>31</td>\n",
       "      <td>120000</td>\n",
       "      <td>0</td>\n",
       "      <td>0</td>\n",
       "      <td>0</td>\n",
       "      <td>1</td>\n",
       "    </tr>\n",
       "    <tr>\n",
       "      <th>3</th>\n",
       "      <td>48</td>\n",
       "      <td>150000</td>\n",
       "      <td>0</td>\n",
       "      <td>1</td>\n",
       "      <td>0</td>\n",
       "      <td>0</td>\n",
       "    </tr>\n",
       "    <tr>\n",
       "      <th>4</th>\n",
       "      <td>59</td>\n",
       "      <td>95000</td>\n",
       "      <td>0</td>\n",
       "      <td>0</td>\n",
       "      <td>1</td>\n",
       "      <td>0</td>\n",
       "    </tr>\n",
       "  </tbody>\n",
       "</table>\n",
       "</div>"
      ],
      "text/plain": [
       "   age  salary  edu_Bachelor  edu_Jd  edu_Masters  edu_PhD\n",
       "0   23   60000             1       0            0        0\n",
       "1   62  100000             0       0            1        0\n",
       "2   31  120000             0       0            0        1\n",
       "3   48  150000             0       1            0        0\n",
       "4   59   95000             0       0            1        0"
      ]
     },
     "execution_count": 3,
     "metadata": {},
     "output_type": "execute_result"
    }
   ],
   "source": [
    "import pandas as pd\n",
    "raw_data = {'age': [23, 62, 31, 48, 59],\n",
    "        'salary': [60000, 100000, 120000, 150000, 95000],\n",
    "        'education': ['Bachelor', 'Masters', 'PhD', 'Jd', 'Masters']}\n",
    "df = pd.DataFrame(raw_data, columns = ['age', 'salary', 'education'])\n",
    "df_edu = pd.get_dummies(df['education'], prefix = 'edu')\n",
    "df_new = pd.concat([df, df_edu], axis=1)\n",
    "df_new = df_new.drop( ['education'], axis = 1 )\n",
    "df_new"
   ]
  },
  {
   "cell_type": "markdown",
   "metadata": {},
   "source": [
    "Convert all categorical feature dimensions within the data set in this way, storing the result as a new data frame."
   ]
  },
  {
   "cell_type": "code",
   "execution_count": null,
   "metadata": {},
   "outputs": [],
   "source": []
  },
  {
   "cell_type": "markdown",
   "metadata": {},
   "source": [
    "## <span style=\"text-decoration:underline;\">Problem 2</span>: Classification Methods"
   ]
  },
  {
   "cell_type": "markdown",
   "metadata": {},
   "source": [
    "For each part below, you may use either the data in its original form or the transformed representation of the data that you generated in Problem 1."
   ]
  },
  {
   "cell_type": "markdown",
   "metadata": {},
   "source": [
    "**<span style=\"text-decoration:underline;\">Part A</span> (20 points):** Use $k$-nearest neighbors to implement an algorithm that predicts the whether an individual has an annual salary of 50,000 dollars or above. Note that the target feature dimension is discrete; you may use a boolean value or $\\{0,1\\}$. Explain how you chose $k$ and report the accuracy of your model on the data. Using `KNeighborsClassifier` is permitted."
   ]
  },
  {
   "cell_type": "code",
   "execution_count": null,
   "metadata": {},
   "outputs": [],
   "source": []
  },
  {
   "cell_type": "markdown",
   "metadata": {},
   "source": [
    "**<span style=\"text-decoration:underline;\">Part B</span> (20 points):** Use [decision trees](http://scikit-learn.org/stable/modules/tree.html) to build a model that predicts the same target feature dimension (income of 50,000 or above). Report your accuracy and compare it to your results from part (a). Using `tree` from `sklearn` is permitted."
   ]
  },
  {
   "cell_type": "code",
   "execution_count": null,
   "metadata": {},
   "outputs": [],
   "source": []
  },
  {
   "cell_type": "markdown",
   "metadata": {},
   "source": [
    "**<span style=\"text-decoration:underline;\">Part C</span> (20 points):** Build a support vector machine model that solves the same problem. Report your accuracy and compare it to your results from parts (a) and (b). "
   ]
  },
  {
   "cell_type": "code",
   "execution_count": null,
   "metadata": {},
   "outputs": [],
   "source": []
  },
  {
   "cell_type": "markdown",
   "metadata": {},
   "source": [
    "**<span style=\"text-decoration:underline;\">Part D</span> (20 points):** Build a logistic regression model that solves the same problem. Report your accuracy and compare it to your results from parts (a), (b), and (c). "
   ]
  },
  {
   "cell_type": "code",
   "execution_count": null,
   "metadata": {},
   "outputs": [],
   "source": []
  }
 ],
 "metadata": {
  "anaconda-cloud": {},
  "kernelspec": {
   "display_name": "Python 3",
   "language": "python",
   "name": "python3"
  },
  "language_info": {
   "codemirror_mode": {
    "name": "ipython",
    "version": 3
   },
   "file_extension": ".py",
   "mimetype": "text/x-python",
   "name": "python",
   "nbconvert_exporter": "python",
   "pygments_lexer": "ipython3",
   "version": "3.6.4"
  }
 },
 "nbformat": 4,
 "nbformat_minor": 1
}
